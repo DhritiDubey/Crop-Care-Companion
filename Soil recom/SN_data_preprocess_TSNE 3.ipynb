{
 "cells": [
  {
   "cell_type": "markdown",
   "metadata": {
    "id": "G6nX1_RA4Ebe"
   },
   "source": [
    "Applying TSNE on scaled data as TSNE is affected by scaling"
   ]
  },
  {
   "cell_type": "code",
   "execution_count": 9,
   "metadata": {
    "id": "QXUEWyKpsnyx"
   },
   "outputs": [],
   "source": [
    "import pandas as pd\n",
    "import numpy as np\n",
    "import matplotlib.pyplot as plt\n",
    "import seaborn as sns"
   ]
  },
  {
   "cell_type": "code",
   "execution_count": 23,
   "metadata": {
    "colab": {
     "base_uri": "https://localhost:8080/"
    },
    "id": "-ZQaZTdf4aa5",
    "outputId": "28143ac3-0086-4c55-8ec3-7b7df0679960"
   },
   "outputs": [
    {
     "name": "stdout",
     "output_type": "stream",
     "text": [
      "<class 'pandas.core.frame.DataFrame'>\n",
      "RangeIndex: 21000 entries, 0 to 20999\n",
      "Data columns (total 9 columns):\n",
      " #   Column       Non-Null Count  Dtype  \n",
      "---  ------       --------------  -----  \n",
      " 0   Unnamed: 0   21000 non-null  int64  \n",
      " 1   N            21000 non-null  float64\n",
      " 2   P            21000 non-null  float64\n",
      " 3   K            21000 non-null  float64\n",
      " 4   temperature  21000 non-null  float64\n",
      " 5   humidity     21000 non-null  float64\n",
      " 6   ph           21000 non-null  float64\n",
      " 7   rainfall     21000 non-null  float64\n",
      " 8   label        21000 non-null  object \n",
      "dtypes: float64(7), int64(1), object(1)\n",
      "memory usage: 1.4+ MB\n"
     ]
    }
   ],
   "source": [
    "data = pd.read_csv('Preprocessed_Data.csv')\n",
    "data.info()"
   ]
  },
  {
   "cell_type": "code",
   "execution_count": 24,
   "metadata": {
    "colab": {
     "base_uri": "https://localhost:8080/"
    },
    "id": "7ALmYxnC4fE4",
    "outputId": "d0f0bd7e-9bac-4ad9-fcf8-2ab4895d8bc8"
   },
   "outputs": [
    {
     "data": {
      "text/plain": [
       "Index(['N', 'P', 'K', 'temperature', 'humidity', 'ph', 'rainfall', 'label'], dtype='object')"
      ]
     },
     "execution_count": 24,
     "metadata": {},
     "output_type": "execute_result"
    }
   ],
   "source": [
    "data.drop(columns=['Unnamed: 0'],inplace=True)\n",
    "data.columns"
   ]
  },
  {
   "cell_type": "code",
   "execution_count": 25,
   "metadata": {
    "colab": {
     "base_uri": "https://localhost:8080/"
    },
    "id": "i5pBZ3nW4g7B",
    "outputId": "d763c66c-0716-4eed-bb75-99fbe5e4fd22"
   },
   "outputs": [
    {
     "data": {
      "text/plain": [
       "8"
      ]
     },
     "execution_count": 25,
     "metadata": {},
     "output_type": "execute_result"
    }
   ],
   "source": [
    "len(data.columns)"
   ]
  },
  {
   "cell_type": "code",
   "execution_count": 26,
   "metadata": {
    "colab": {
     "base_uri": "https://localhost:8080/"
    },
    "id": "H1pQxF6Qsa8x",
    "outputId": "9df41820-c912-45e4-f601-febb5d813955"
   },
   "outputs": [
    {
     "data": {
      "text/plain": [
       "(21000, 8)"
      ]
     },
     "execution_count": 26,
     "metadata": {},
     "output_type": "execute_result"
    }
   ],
   "source": [
    "data.shape"
   ]
  },
  {
   "cell_type": "code",
   "execution_count": 27,
   "metadata": {
    "id": "hnDnaEL_4hnB"
   },
   "outputs": [],
   "source": [
    "labels = data['label']"
   ]
  },
  {
   "cell_type": "code",
   "execution_count": 28,
   "metadata": {
    "colab": {
     "base_uri": "https://localhost:8080/",
     "height": 424
    },
    "id": "DMdZd1Ctr-T3",
    "outputId": "2572cf2f-f195-4e05-94f1-d183cbab7072"
   },
   "outputs": [
    {
     "data": {
      "text/html": [
       "\n",
       "  <div id=\"df-ef8f1939-290f-45e3-9d03-150f737e3573\">\n",
       "    <div class=\"colab-df-container\">\n",
       "      <div>\n",
       "<style scoped>\n",
       "    .dataframe tbody tr th:only-of-type {\n",
       "        vertical-align: middle;\n",
       "    }\n",
       "\n",
       "    .dataframe tbody tr th {\n",
       "        vertical-align: top;\n",
       "    }\n",
       "\n",
       "    .dataframe thead th {\n",
       "        text-align: right;\n",
       "    }\n",
       "</style>\n",
       "<table border=\"1\" class=\"dataframe\">\n",
       "  <thead>\n",
       "    <tr style=\"text-align: right;\">\n",
       "      <th></th>\n",
       "      <th>N</th>\n",
       "      <th>P</th>\n",
       "      <th>K</th>\n",
       "      <th>temperature</th>\n",
       "      <th>humidity</th>\n",
       "      <th>ph</th>\n",
       "      <th>rainfall</th>\n",
       "      <th>label</th>\n",
       "    </tr>\n",
       "  </thead>\n",
       "  <tbody>\n",
       "    <tr>\n",
       "      <th>0</th>\n",
       "      <td>-0.551926</td>\n",
       "      <td>2.253472</td>\n",
       "      <td>2.993021</td>\n",
       "      <td>-0.413327</td>\n",
       "      <td>1.033094</td>\n",
       "      <td>-0.751825</td>\n",
       "      <td>0.002306</td>\n",
       "      <td>apple</td>\n",
       "    </tr>\n",
       "    <tr>\n",
       "      <th>1</th>\n",
       "      <td>-0.872147</td>\n",
       "      <td>2.073407</td>\n",
       "      <td>2.877109</td>\n",
       "      <td>-0.528838</td>\n",
       "      <td>1.041862</td>\n",
       "      <td>-1.116156</td>\n",
       "      <td>0.127685</td>\n",
       "      <td>apple</td>\n",
       "    </tr>\n",
       "    <tr>\n",
       "      <th>2</th>\n",
       "      <td>-0.685351</td>\n",
       "      <td>2.283483</td>\n",
       "      <td>2.954383</td>\n",
       "      <td>-0.459680</td>\n",
       "      <td>0.925644</td>\n",
       "      <td>-0.698677</td>\n",
       "      <td>0.394687</td>\n",
       "      <td>apple</td>\n",
       "    </tr>\n",
       "    <tr>\n",
       "      <th>3</th>\n",
       "      <td>-0.925517</td>\n",
       "      <td>2.463548</td>\n",
       "      <td>2.973702</td>\n",
       "      <td>-0.885103</td>\n",
       "      <td>0.884755</td>\n",
       "      <td>-0.838220</td>\n",
       "      <td>0.101871</td>\n",
       "      <td>apple</td>\n",
       "    </tr>\n",
       "    <tr>\n",
       "      <th>4</th>\n",
       "      <td>-1.272424</td>\n",
       "      <td>2.163439</td>\n",
       "      <td>2.935065</td>\n",
       "      <td>-0.747781</td>\n",
       "      <td>0.865034</td>\n",
       "      <td>-0.719601</td>\n",
       "      <td>0.090467</td>\n",
       "      <td>apple</td>\n",
       "    </tr>\n",
       "    <tr>\n",
       "      <th>...</th>\n",
       "      <td>...</td>\n",
       "      <td>...</td>\n",
       "      <td>...</td>\n",
       "      <td>...</td>\n",
       "      <td>...</td>\n",
       "      <td>...</td>\n",
       "      <td>...</td>\n",
       "      <td>...</td>\n",
       "    </tr>\n",
       "    <tr>\n",
       "      <th>20995</th>\n",
       "      <td>1.716309</td>\n",
       "      <td>-1.317819</td>\n",
       "      <td>0.037278</td>\n",
       "      <td>0.063229</td>\n",
       "      <td>0.508505</td>\n",
       "      <td>0.292177</td>\n",
       "      <td>-0.842585</td>\n",
       "      <td>pomegranate</td>\n",
       "    </tr>\n",
       "    <tr>\n",
       "      <th>20996</th>\n",
       "      <td>1.262662</td>\n",
       "      <td>-1.197776</td>\n",
       "      <td>0.056597</td>\n",
       "      <td>-0.266011</td>\n",
       "      <td>0.800641</td>\n",
       "      <td>0.541344</td>\n",
       "      <td>-0.811128</td>\n",
       "      <td>pomegranate</td>\n",
       "    </tr>\n",
       "    <tr>\n",
       "      <th>20997</th>\n",
       "      <td>1.662939</td>\n",
       "      <td>-0.897667</td>\n",
       "      <td>0.114553</td>\n",
       "      <td>-0.176401</td>\n",
       "      <td>0.822016</td>\n",
       "      <td>0.288299</td>\n",
       "      <td>-0.794671</td>\n",
       "      <td>pomegranate</td>\n",
       "    </tr>\n",
       "    <tr>\n",
       "      <th>20998</th>\n",
       "      <td>1.476143</td>\n",
       "      <td>-1.107743</td>\n",
       "      <td>-0.001359</td>\n",
       "      <td>0.104229</td>\n",
       "      <td>0.622705</td>\n",
       "      <td>-0.390270</td>\n",
       "      <td>-0.978804</td>\n",
       "      <td>pomegranate</td>\n",
       "    </tr>\n",
       "    <tr>\n",
       "      <th>20999</th>\n",
       "      <td>1.502828</td>\n",
       "      <td>-0.867656</td>\n",
       "      <td>0.114553</td>\n",
       "      <td>0.148632</td>\n",
       "      <td>0.823406</td>\n",
       "      <td>-0.311861</td>\n",
       "      <td>-0.814408</td>\n",
       "      <td>pomegranate</td>\n",
       "    </tr>\n",
       "  </tbody>\n",
       "</table>\n",
       "<p>21000 rows × 8 columns</p>\n",
       "</div>\n",
       "      <button class=\"colab-df-convert\" onclick=\"convertToInteractive('df-ef8f1939-290f-45e3-9d03-150f737e3573')\"\n",
       "              title=\"Convert this dataframe to an interactive table.\"\n",
       "              style=\"display:none;\">\n",
       "        \n",
       "  <svg xmlns=\"http://www.w3.org/2000/svg\" height=\"24px\"viewBox=\"0 0 24 24\"\n",
       "       width=\"24px\">\n",
       "    <path d=\"M0 0h24v24H0V0z\" fill=\"none\"/>\n",
       "    <path d=\"M18.56 5.44l.94 2.06.94-2.06 2.06-.94-2.06-.94-.94-2.06-.94 2.06-2.06.94zm-11 1L8.5 8.5l.94-2.06 2.06-.94-2.06-.94L8.5 2.5l-.94 2.06-2.06.94zm10 10l.94 2.06.94-2.06 2.06-.94-2.06-.94-.94-2.06-.94 2.06-2.06.94z\"/><path d=\"M17.41 7.96l-1.37-1.37c-.4-.4-.92-.59-1.43-.59-.52 0-1.04.2-1.43.59L10.3 9.45l-7.72 7.72c-.78.78-.78 2.05 0 2.83L4 21.41c.39.39.9.59 1.41.59.51 0 1.02-.2 1.41-.59l7.78-7.78 2.81-2.81c.8-.78.8-2.07 0-2.86zM5.41 20L4 18.59l7.72-7.72 1.47 1.35L5.41 20z\"/>\n",
       "  </svg>\n",
       "      </button>\n",
       "      \n",
       "  <style>\n",
       "    .colab-df-container {\n",
       "      display:flex;\n",
       "      flex-wrap:wrap;\n",
       "      gap: 12px;\n",
       "    }\n",
       "\n",
       "    .colab-df-convert {\n",
       "      background-color: #E8F0FE;\n",
       "      border: none;\n",
       "      border-radius: 50%;\n",
       "      cursor: pointer;\n",
       "      display: none;\n",
       "      fill: #1967D2;\n",
       "      height: 32px;\n",
       "      padding: 0 0 0 0;\n",
       "      width: 32px;\n",
       "    }\n",
       "\n",
       "    .colab-df-convert:hover {\n",
       "      background-color: #E2EBFA;\n",
       "      box-shadow: 0px 1px 2px rgba(60, 64, 67, 0.3), 0px 1px 3px 1px rgba(60, 64, 67, 0.15);\n",
       "      fill: #174EA6;\n",
       "    }\n",
       "\n",
       "    [theme=dark] .colab-df-convert {\n",
       "      background-color: #3B4455;\n",
       "      fill: #D2E3FC;\n",
       "    }\n",
       "\n",
       "    [theme=dark] .colab-df-convert:hover {\n",
       "      background-color: #434B5C;\n",
       "      box-shadow: 0px 1px 3px 1px rgba(0, 0, 0, 0.15);\n",
       "      filter: drop-shadow(0px 1px 2px rgba(0, 0, 0, 0.3));\n",
       "      fill: #FFFFFF;\n",
       "    }\n",
       "  </style>\n",
       "\n",
       "      <script>\n",
       "        const buttonEl =\n",
       "          document.querySelector('#df-ef8f1939-290f-45e3-9d03-150f737e3573 button.colab-df-convert');\n",
       "        buttonEl.style.display =\n",
       "          google.colab.kernel.accessAllowed ? 'block' : 'none';\n",
       "\n",
       "        async function convertToInteractive(key) {\n",
       "          const element = document.querySelector('#df-ef8f1939-290f-45e3-9d03-150f737e3573');\n",
       "          const dataTable =\n",
       "            await google.colab.kernel.invokeFunction('convertToInteractive',\n",
       "                                                     [key], {});\n",
       "          if (!dataTable) return;\n",
       "\n",
       "          const docLinkHtml = 'Like what you see? Visit the ' +\n",
       "            '<a target=\"_blank\" href=https://colab.research.google.com/notebooks/data_table.ipynb>data table notebook</a>'\n",
       "            + ' to learn more about interactive tables.';\n",
       "          element.innerHTML = '';\n",
       "          dataTable['output_type'] = 'display_data';\n",
       "          await google.colab.output.renderOutput(dataTable, element);\n",
       "          const docLink = document.createElement('div');\n",
       "          docLink.innerHTML = docLinkHtml;\n",
       "          element.appendChild(docLink);\n",
       "        }\n",
       "      </script>\n",
       "    </div>\n",
       "  </div>\n",
       "  "
      ],
      "text/plain": [
       "              N         P         K  temperature  humidity        ph  \\\n",
       "0     -0.551926  2.253472  2.993021    -0.413327  1.033094 -0.751825   \n",
       "1     -0.872147  2.073407  2.877109    -0.528838  1.041862 -1.116156   \n",
       "2     -0.685351  2.283483  2.954383    -0.459680  0.925644 -0.698677   \n",
       "3     -0.925517  2.463548  2.973702    -0.885103  0.884755 -0.838220   \n",
       "4     -1.272424  2.163439  2.935065    -0.747781  0.865034 -0.719601   \n",
       "...         ...       ...       ...          ...       ...       ...   \n",
       "20995  1.716309 -1.317819  0.037278     0.063229  0.508505  0.292177   \n",
       "20996  1.262662 -1.197776  0.056597    -0.266011  0.800641  0.541344   \n",
       "20997  1.662939 -0.897667  0.114553    -0.176401  0.822016  0.288299   \n",
       "20998  1.476143 -1.107743 -0.001359     0.104229  0.622705 -0.390270   \n",
       "20999  1.502828 -0.867656  0.114553     0.148632  0.823406 -0.311861   \n",
       "\n",
       "       rainfall        label  \n",
       "0      0.002306        apple  \n",
       "1      0.127685        apple  \n",
       "2      0.394687        apple  \n",
       "3      0.101871        apple  \n",
       "4      0.090467        apple  \n",
       "...         ...          ...  \n",
       "20995 -0.842585  pomegranate  \n",
       "20996 -0.811128  pomegranate  \n",
       "20997 -0.794671  pomegranate  \n",
       "20998 -0.978804  pomegranate  \n",
       "20999 -0.814408  pomegranate  \n",
       "\n",
       "[21000 rows x 8 columns]"
      ]
     },
     "execution_count": 28,
     "metadata": {},
     "output_type": "execute_result"
    }
   ],
   "source": [
    "data"
   ]
  },
  {
   "cell_type": "markdown",
   "metadata": {
    "id": "jjs4KEYG4m5m"
   },
   "source": [
    "TSNE (2 to 3)"
   ]
  },
  {
   "cell_type": "code",
   "execution_count": 29,
   "metadata": {
    "id": "tZRYtM5j4jbY"
   },
   "outputs": [],
   "source": [
    "from sklearn.model_selection import train_test_split\n",
    "from sklearn.manifold import TSNE"
   ]
  },
  {
   "cell_type": "code",
   "execution_count": 30,
   "metadata": {
    "id": "susukZOI4jor"
   },
   "outputs": [],
   "source": [
    "for n in range(2,4):\n",
    "  tsne = TSNE(n_components=n)\n",
    "  name = 'Data_TSNE_N='+str(n)\n",
    "  dat = tsne.fit_transform(data[data.columns[:-1]])\n",
    "  dat = pd.DataFrame(dat)\n",
    "  dat['label'] = labels\n",
    "  dat.to_csv(name+'.csv')"
   ]
  },
  {
   "cell_type": "code",
   "execution_count": null,
   "metadata": {
    "id": "RlVgTe9jkQs7"
   },
   "outputs": [],
   "source": []
  }
 ],
 "metadata": {
  "colab": {
   "provenance": []
  },
  "kernelspec": {
   "display_name": "Python 3 (ipykernel)",
   "language": "python",
   "name": "python3"
  },
  "language_info": {
   "codemirror_mode": {
    "name": "ipython",
    "version": 3
   },
   "file_extension": ".py",
   "mimetype": "text/x-python",
   "name": "python",
   "nbconvert_exporter": "python",
   "pygments_lexer": "ipython3",
   "version": "3.9.13"
  }
 },
 "nbformat": 4,
 "nbformat_minor": 1
}
