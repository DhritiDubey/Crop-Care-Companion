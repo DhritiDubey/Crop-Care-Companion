{
 "cells": [
  {
   "cell_type": "markdown",
   "metadata": {
    "id": "zHiWjgkwnnjC"
   },
   "source": [
    "Applying PCA on scaled data as PCA is affected by scaling\n",
    "\n",
    "\n"
   ]
  },
  {
   "cell_type": "code",
   "execution_count": 1,
   "metadata": {
    "id": "WlaKtV9dmiZz"
   },
   "outputs": [],
   "source": [
    "import pandas as pd\n",
    "import numpy as np\n",
    "import matplotlib.pyplot as plt\n",
    "import seaborn as sns"
   ]
  },
  {
   "cell_type": "code",
   "execution_count": 9,
   "metadata": {
    "id": "O9ypx9VVm4Rn"
   },
   "outputs": [],
   "source": [
    "data = pd.read_csv('Preprocessed_Data.csv')"
   ]
  },
  {
   "cell_type": "code",
   "execution_count": 10,
   "metadata": {
    "colab": {
     "base_uri": "https://localhost:8080/"
    },
    "id": "ta_6wAnnnIBW",
    "outputId": "d567b823-5188-468f-904a-560bd583497d"
   },
   "outputs": [
    {
     "name": "stdout",
     "output_type": "stream",
     "text": [
      "<class 'pandas.core.frame.DataFrame'>\n",
      "RangeIndex: 21000 entries, 0 to 20999\n",
      "Data columns (total 9 columns):\n",
      " #   Column       Non-Null Count  Dtype  \n",
      "---  ------       --------------  -----  \n",
      " 0   Unnamed: 0   21000 non-null  int64  \n",
      " 1   N            21000 non-null  float64\n",
      " 2   P            21000 non-null  float64\n",
      " 3   K            21000 non-null  float64\n",
      " 4   temperature  21000 non-null  float64\n",
      " 5   humidity     21000 non-null  float64\n",
      " 6   ph           21000 non-null  float64\n",
      " 7   rainfall     21000 non-null  float64\n",
      " 8   label        21000 non-null  object \n",
      "dtypes: float64(7), int64(1), object(1)\n",
      "memory usage: 1.4+ MB\n"
     ]
    }
   ],
   "source": [
    "data.info()"
   ]
  },
  {
   "cell_type": "code",
   "execution_count": 11,
   "metadata": {
    "colab": {
     "base_uri": "https://localhost:8080/"
    },
    "id": "nbC9f2lInJeP",
    "outputId": "a3c5a97c-9a38-4a65-f367-4a64ac414467"
   },
   "outputs": [
    {
     "data": {
      "text/plain": [
       "Index(['N', 'P', 'K', 'temperature', 'humidity', 'ph', 'rainfall', 'label'], dtype='object')"
      ]
     },
     "execution_count": 11,
     "metadata": {},
     "output_type": "execute_result"
    }
   ],
   "source": [
    "data.drop(columns=['Unnamed: 0'],inplace=True)\n",
    "data.columns"
   ]
  },
  {
   "cell_type": "code",
   "execution_count": 12,
   "metadata": {
    "colab": {
     "base_uri": "https://localhost:8080/"
    },
    "id": "bmawP25CoAPZ",
    "outputId": "7a31691b-07bd-47fa-f1c6-26a56f1ec2bf"
   },
   "outputs": [
    {
     "data": {
      "text/plain": [
       "8"
      ]
     },
     "execution_count": 12,
     "metadata": {},
     "output_type": "execute_result"
    }
   ],
   "source": [
    "len(data.columns)"
   ]
  },
  {
   "cell_type": "code",
   "execution_count": 13,
   "metadata": {
    "id": "IBy_76gfopz9"
   },
   "outputs": [],
   "source": [
    "labels = data['label']"
   ]
  },
  {
   "cell_type": "markdown",
   "metadata": {
    "id": "cBuKukHPnRbE"
   },
   "source": [
    "PCA (2 to 4)"
   ]
  },
  {
   "cell_type": "code",
   "execution_count": 14,
   "metadata": {
    "id": "m7y2tIKDnPZ1"
   },
   "outputs": [],
   "source": [
    "from sklearn.model_selection import train_test_split\n",
    "from sklearn.decomposition import PCA"
   ]
  },
  {
   "cell_type": "code",
   "execution_count": 15,
   "metadata": {
    "id": "ZutnuoisoGW9"
   },
   "outputs": [],
   "source": [
    "for n in range(2,5):\n",
    "  pca = PCA(n_components=n)\n",
    "  name = 'Data_PCA_N='+str(n)\n",
    "  dat = pca.fit_transform(data[data.columns[:-1]])\n",
    "  dat = pd.DataFrame(dat)\n",
    "  dat['label'] = labels\n",
    "  dat.to_csv(name+'.csv')"
   ]
  },
  {
   "cell_type": "code",
   "execution_count": null,
   "metadata": {
    "id": "IgyVVv6KriyA"
   },
   "outputs": [],
   "source": []
  }
 ],
 "metadata": {
  "colab": {
   "provenance": []
  },
  "kernelspec": {
   "display_name": "Python 3 (ipykernel)",
   "language": "python",
   "name": "python3"
  },
  "language_info": {
   "codemirror_mode": {
    "name": "ipython",
    "version": 3
   },
   "file_extension": ".py",
   "mimetype": "text/x-python",
   "name": "python",
   "nbconvert_exporter": "python",
   "pygments_lexer": "ipython3",
   "version": "3.9.13"
  }
 },
 "nbformat": 4,
 "nbformat_minor": 1
}
